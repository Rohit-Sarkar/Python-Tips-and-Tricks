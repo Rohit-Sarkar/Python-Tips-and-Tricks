{
 "cells": [
  {
   "cell_type": "markdown",
   "metadata": {},
   "source": [
    "# MAP, FILTER and REDUCE"
   ]
  },
  {
   "cell_type": "code",
   "execution_count": 1,
   "metadata": {
    "collapsed": true
   },
   "outputs": [],
   "source": [
    "# map(function,data)\n",
    "\n",
    "temps = [('Berlin',29),('Cairo',36),('Buenos Airs',19),('Los Angeles',26),('Tokyo',27),('Delhi',35)]"
   ]
  },
  {
   "cell_type": "code",
   "execution_count": 2,
   "metadata": {
    "collapsed": true
   },
   "outputs": [],
   "source": [
    "c_to_f = lambda data:(data[0], (9/5)*data[1] + 32)"
   ]
  },
  {
   "cell_type": "code",
   "execution_count": 3,
   "metadata": {},
   "outputs": [
    {
     "data": {
      "text/plain": [
       "[('Berlin', 84.2),\n",
       " ('Cairo', 96.8),\n",
       " ('Buenos Airs', 66.2),\n",
       " ('Los Angeles', 78.80000000000001),\n",
       " ('Tokyo', 80.6),\n",
       " ('Delhi', 95.0)]"
      ]
     },
     "execution_count": 3,
     "metadata": {},
     "output_type": "execute_result"
    }
   ],
   "source": [
    "list(map(c_to_f,temps))"
   ]
  },
  {
   "cell_type": "code",
   "execution_count": 4,
   "metadata": {},
   "outputs": [
    {
     "data": {
      "text/plain": [
       "2.111111111111111"
      ]
     },
     "execution_count": 4,
     "metadata": {},
     "output_type": "execute_result"
    }
   ],
   "source": [
    "# filter(function, data)\n",
    "import statistics \n",
    "\n",
    "data= [1.3,2.7,2.9,4.5,2.6,1.9,-2.3,8.0,-2.6]\n",
    "avg = statistics.mean(data)\n",
    "avg"
   ]
  },
  {
   "cell_type": "code",
   "execution_count": 6,
   "metadata": {},
   "outputs": [],
   "source": [
    "grt_avg = lambda x: x > avg\n",
    "\n",
    "data_grt_avg = filter(grt_avg , data)"
   ]
  },
  {
   "cell_type": "code",
   "execution_count": 7,
   "metadata": {},
   "outputs": [
    {
     "data": {
      "text/plain": [
       "<filter at 0x2d669eb74a8>"
      ]
     },
     "execution_count": 7,
     "metadata": {},
     "output_type": "execute_result"
    }
   ],
   "source": [
    "data_grt_avg ## it is a filter object which is the iterator over the data"
   ]
  },
  {
   "cell_type": "code",
   "execution_count": 8,
   "metadata": {},
   "outputs": [
    {
     "data": {
      "text/plain": [
       "[2.7, 2.9, 4.5, 2.6, 8.0]"
      ]
     },
     "execution_count": 8,
     "metadata": {},
     "output_type": "execute_result"
    }
   ],
   "source": [
    "list(data_grt_avg) ## it will create a list and returns value"
   ]
  },
  {
   "cell_type": "code",
   "execution_count": 9,
   "metadata": {},
   "outputs": [
    {
     "data": {
      "text/plain": [
       "['India',\n",
       " 'China',\n",
       " 'United States',\n",
       " 'Brazil',\n",
       " 'Singapore',\n",
       " 'South Africa',\n",
       " 'Cananda']"
      ]
     },
     "execution_count": 9,
     "metadata": {},
     "output_type": "execute_result"
    }
   ],
   "source": [
    "# Remove missing functions\n",
    "\n",
    "countries = [\"\",'India','China','United States','Brazil','Singapore','','South Africa','','Cananda']\n",
    "\n",
    "list(filter(None,countries))"
   ]
  },
  {
   "cell_type": "code",
   "execution_count": 10,
   "metadata": {},
   "outputs": [
    {
     "data": {
      "text/plain": [
       "270270"
      ]
     },
     "execution_count": 10,
     "metadata": {},
     "output_type": "execute_result"
    }
   ],
   "source": [
    "# reduce function is in the functools module\n",
    "\n",
    "from functools import reduce\n",
    "\n",
    "data = [2,3,5,7,9,11,13]\n",
    "\n",
    "multiplier = lambda x,y: x*y\n",
    "\n",
    "reduce(multiplier,data)"
   ]
  },
  {
   "cell_type": "code",
   "execution_count": 12,
   "metadata": {},
   "outputs": [
    {
     "data": {
      "text/plain": [
       "270270"
      ]
     },
     "execution_count": 12,
     "metadata": {},
     "output_type": "execute_result"
    }
   ],
   "source": [
    "product = 1\n",
    "\n",
    "for i in data:\n",
    "    product = product * i\n",
    "product     "
   ]
  },
  {
   "cell_type": "code",
   "execution_count": 13,
   "metadata": {
    "collapsed": true
   },
   "outputs": [],
   "source": [
    "def factorial(x):\n",
    "    if x ==1:\n",
    "        return x\n",
    "    else :\n",
    "        return x * factorial(x-1)"
   ]
  },
  {
   "cell_type": "markdown",
   "metadata": {},
   "source": [
    "## List Comprehension"
   ]
  },
  {
   "cell_type": "markdown",
   "metadata": {},
   "source": [
    "### [expr for val in collection]                                           expr generates the list based on for loop\n",
    "### [expr for val in collection if 'test']                               expr generates the list based for loop and if consitions\n",
    "### [expr for val in collextion if test1 and test2]              for multiple if conditions\n",
    "### [expr for val1 in collection1 and val2 in collection2] for multiple collections"
   ]
  },
  {
   "cell_type": "code",
   "execution_count": 20,
   "metadata": {},
   "outputs": [
    {
     "data": {
      "text/plain": [
       "[1, 4, 9, 16, 25, 36, 49, 64, 81, 100]"
      ]
     },
     "execution_count": 20,
     "metadata": {},
     "output_type": "execute_result"
    }
   ],
   "source": [
    "# Squares\n",
    "\n",
    "square = []\n",
    "for i in range(1,11):\n",
    "    square.append(i**2)\n",
    "square"
   ]
  },
  {
   "cell_type": "code",
   "execution_count": 22,
   "metadata": {},
   "outputs": [
    {
     "data": {
      "text/plain": [
       "[1, 4, 9, 16, 25, 36, 49, 64, 81, 100]"
      ]
     },
     "execution_count": 22,
     "metadata": {},
     "output_type": "execute_result"
    }
   ],
   "source": [
    "square1 = [i**2 for i in range(1,11)]\n",
    "square1"
   ]
  },
  {
   "cell_type": "code",
   "execution_count": 23,
   "metadata": {},
   "outputs": [
    {
     "data": {
      "text/plain": [
       "['titanic', 'troy']"
      ]
     },
     "execution_count": 23,
     "metadata": {},
     "output_type": "execute_result"
    }
   ],
   "source": [
    "movies = ['godfather','lego','cars','titanic','saving private ryan','troy','cast away','rocky','rambo','harry potter']\n",
    "\n",
    "movies_t = []\n",
    "for movie in movies:\n",
    "    if movie.startswith('t'):\n",
    "        movies_t.append(movie)\n",
    "movies_t    "
   ]
  },
  {
   "cell_type": "code",
   "execution_count": 25,
   "metadata": {},
   "outputs": [
    {
     "data": {
      "text/plain": [
       "['titanic', 'troy']"
      ]
     },
     "execution_count": 25,
     "metadata": {},
     "output_type": "execute_result"
    }
   ],
   "source": [
    "movies_t1 = [movie for movie in movies if movie.startswith('t')]\n",
    "movies_t1"
   ]
  },
  {
   "cell_type": "code",
   "execution_count": 26,
   "metadata": {},
   "outputs": [
    {
     "data": {
      "text/plain": [
       "[(1, 2),\n",
       " (1, 4),\n",
       " (1, 6),\n",
       " (1, 8),\n",
       " (3, 2),\n",
       " (3, 4),\n",
       " (3, 6),\n",
       " (3, 8),\n",
       " (5, 2),\n",
       " (5, 4),\n",
       " (5, 6),\n",
       " (5, 8),\n",
       " (7, 2),\n",
       " (7, 4),\n",
       " (7, 6),\n",
       " (7, 8)]"
      ]
     },
     "execution_count": 26,
     "metadata": {},
     "output_type": "execute_result"
    }
   ],
   "source": [
    "A = [1,3,5,7]\n",
    "B = [2,4,6,8]\n",
    "\n",
    "cartesian_product = [(a,b) for a in A for b in B]\n",
    "cartesian_product"
   ]
  },
  {
   "cell_type": "markdown",
   "metadata": {},
   "source": [
    "# Lambda Expression"
   ]
  },
  {
   "cell_type": "code",
   "execution_count": 29,
   "metadata": {},
   "outputs": [
    {
     "data": {
      "text/plain": [
       "'Rohit Sarkar'"
      ]
     },
     "execution_count": 29,
     "metadata": {},
     "output_type": "execute_result"
    }
   ],
   "source": [
    "# lambda input_parameters: return the value\n",
    "# lambda expression are the nameless functiions\n",
    "\n",
    "full_name = lambda full, last: full.strip() + \" \" + last.strip()\n",
    "\n",
    "full_name (\"  Rohit\",\"  Sarkar  \")"
   ]
  },
  {
   "cell_type": "code",
   "execution_count": 32,
   "metadata": {},
   "outputs": [
    {
     "data": {
      "text/plain": [
       "['Kumar Akshit',\n",
       " 'Sourav Roy Choudhary',\n",
       " 'Saksham Dixit',\n",
       " 'Rajesh Gupta',\n",
       " 'Ashish Kumar',\n",
       " 'Rahul Roshan',\n",
       " 'Zubin Shyam Sharma']"
      ]
     },
     "execution_count": 32,
     "metadata": {},
     "output_type": "execute_result"
    }
   ],
   "source": [
    "# sorting by last name\n",
    "friends = ['Rahul Roshan','Sourav Roy Choudhary','Kumar Akshit','Saksham Dixit','Rajesh Gupta','Ashish Kumar','Zubin Shyam Sharma']\n",
    "\n",
    "friends.sort(key=lambda name: name.split(\" \")[-1].lower())\n",
    "\n",
    "friends"
   ]
  },
  {
   "cell_type": "code",
   "execution_count": 33,
   "metadata": {},
   "outputs": [
    {
     "data": {
      "text/plain": [
       "22"
      ]
     },
     "execution_count": 33,
     "metadata": {},
     "output_type": "execute_result"
    }
   ],
   "source": [
    "def quad_func(a,b,c):\n",
    "    return lambda x:a*x**2 + b*x + c\n",
    "quad_func(3,4,2)(2) # 3*(2)^2 + 4*2 + 2"
   ]
  }
 ],
 "metadata": {
  "kernelspec": {
   "display_name": "Python 3",
   "language": "python",
   "name": "python3"
  },
  "language_info": {
   "codemirror_mode": {
    "name": "ipython",
    "version": 3
   },
   "file_extension": ".py",
   "mimetype": "text/x-python",
   "name": "python",
   "nbconvert_exporter": "python",
   "pygments_lexer": "ipython3",
   "version": "3.6.2"
  }
 },
 "nbformat": 4,
 "nbformat_minor": 2
}
